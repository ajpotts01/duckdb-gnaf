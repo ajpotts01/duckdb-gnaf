{
 "cells": [
  {
   "cell_type": "code",
   "execution_count": 1,
   "metadata": {},
   "outputs": [],
   "source": [
    "import duckdb"
   ]
  },
  {
   "cell_type": "code",
   "execution_count": 12,
   "metadata": {},
   "outputs": [
    {
     "data": {
      "application/vnd.jupyter.widget-view+json": {
       "model_id": "3af4e19de63e4087b45284cead363521",
       "version_major": 2,
       "version_minor": 0
      },
      "text/plain": [
       "FloatProgress(value=0.0, layout=Layout(width='auto'), style=ProgressStyle(bar_color='black'))"
      ]
     },
     "metadata": {},
     "output_type": "display_data"
    }
   ],
   "source": [
    "duckdb.read_csv(\"./data/GNAF_CORE.psv\", delimiter=\"|\").write_parquet(\"./data/gnaf.parquet\")"
   ]
  },
  {
   "cell_type": "code",
   "execution_count": 24,
   "metadata": {},
   "outputs": [
    {
     "name": "stdout",
     "output_type": "stream",
     "text": [
      "┌──────────────────┬───────────────────────────┐\n",
      "│  LOCALITY_NAME   │ count(ADDRESS_DETAIL_PID) │\n",
      "│     varchar      │           int64           │\n",
      "├──────────────────┼───────────────────────────┤\n",
      "│ MELBOURNE        │                    134915 │\n",
      "│ SOUTHBANK        │                     49603 │\n",
      "│ SYDNEY           │                     46613 │\n",
      "│ SURFERS PARADISE │                     36491 │\n",
      "│ PORT MACQUARIE   │                     33805 │\n",
      "│ EPPING           │                     33693 │\n",
      "│ CARLTON          │                     33499 │\n",
      "│ RICHMOND         │                     32666 │\n",
      "│ ADELAIDE         │                     30938 │\n",
      "│ SOUTHPORT        │                     30720 │\n",
      "│     ·            │                         · │\n",
      "│     ·            │                         · │\n",
      "│     ·            │                         · │\n",
      "│ BANGERANG        │                        50 │\n",
      "│ NITMILUK         │                        50 │\n",
      "│ BRINGALILY       │                        50 │\n",
      "│ MANGANA          │                        50 │\n",
      "│ EURELLA          │                        50 │\n",
      "│ GLEN VALLEY      │                        50 │\n",
      "│ TARNOOK          │                        50 │\n",
      "│ TURTONS CREEK    │                        50 │\n",
      "│ MUMBERKINE       │                        50 │\n",
      "│ ALLAMBEE SOUTH   │                        50 │\n",
      "├──────────────────┴───────────────────────────┤\n",
      "│ ? rows (>9999 rows, 20 shown)      2 columns │\n",
      "└──────────────────────────────────────────────┘\n",
      "\n"
     ]
    }
   ],
   "source": [
    "duckdb.sql(\"\"\"\n",
    "           SELECT \n",
    "             LOCALITY_NAME, COUNT(ADDRESS_DETAIL_PID) \n",
    "           FROM \n",
    "             './data/gnaf.parquet' \n",
    "           GROUP BY \n",
    "             LOCALITY_NAME\n",
    "           ORDER BY\n",
    "             2 DESC\n",
    "           \"\"\").show(max_width=1000)"
   ]
  },
  {
   "cell_type": "code",
   "execution_count": 26,
   "metadata": {},
   "outputs": [
    {
     "name": "stdout",
     "output_type": "stream",
     "text": [
      "┌────────────────────┬──────────────┬───────────────────────────────────────────────────────────────┬───────────────────┬───────────────┬───────────┬─────────────┬────────────┬──────────────┬──────────────┬─────────────┬────────────┬─────────────┬─────────────┬───────────────┬───────────────┬─────────┬──────────┬─────────────────┬─────────────┬─────────────────┬────────────────┬───────────────────┬────────────────┬─────────────────────────┬──────────────┬──────────────┐\n",
      "│ ADDRESS_DETAIL_PID │ DATE_CREATED │                         ADDRESS_LABEL                         │ ADDRESS_SITE_NAME │ BUILDING_NAME │ FLAT_TYPE │ FLAT_NUMBER │ LEVEL_TYPE │ LEVEL_NUMBER │ NUMBER_FIRST │ NUMBER_LAST │ LOT_NUMBER │ STREET_NAME │ STREET_TYPE │ STREET_SUFFIX │ LOCALITY_NAME │  STATE  │ POSTCODE │ LEGAL_PARCEL_ID │   MB_CODE   │ ALIAS_PRINCIPAL │ PRINCIPAL_PID  │ PRIMARY_SECONDARY │  PRIMARY_PID   │      GEOCODE_TYPE       │  LONGITUDE   │   LATITUDE   │\n",
      "│      varchar       │     date     │                            varchar                            │      varchar      │    varchar    │  varchar  │   varchar   │  varchar   │   varchar    │   varchar    │   varchar   │  varchar   │   varchar   │   varchar   │    varchar    │    varchar    │ varchar │ varchar  │     varchar     │    int64    │     varchar     │    varchar     │      varchar      │    varchar     │         varchar         │    double    │    double    │\n",
      "├────────────────────┼──────────────┼───────────────────────────────────────────────────────────────┼───────────────────┼───────────────┼───────────┼─────────────┼────────────┼──────────────┼──────────────┼─────────────┼────────────┼─────────────┼─────────────┼───────────────┼───────────────┼─────────┼──────────┼─────────────────┼─────────────┼─────────────────┼────────────────┼───────────────────┼────────────────┼─────────────────────────┼──────────────┼──────────────┤\n",
      "│ GAVIC719244175     │ 2017-04-21   │ UNIT 1004 36 LA TROBE ST, MELBOURNE VIC 3000                  │ NULL              │ NULL          │ UNIT      │ 1004        │ NULL       │ NULL         │ 36           │ NULL        │ NULL       │ LA TROBE    │ STREET      │ NULL          │ MELBOURNE     │ VIC     │ 3000     │ 1004\\PS723377   │ 21315170000 │ ALIAS           │ GAVIC719326209 │ SECONDARY         │ GAVIC719243452 │ FRONTAGE CENTRE SETBACK │  144.9676409 │ -37.80824676 │\n",
      "│ GAVIC719516382     │ 2017-10-17   │ 14 CENTREWAY ARC, MELBOURNE VIC 3000                          │ NULL              │ NULL          │ NULL      │ NULL        │ NULL       │ NULL         │ 14           │ NULL        │ NULL       │ CENTREWAY   │ ARCADE      │ NULL          │ MELBOURNE     │ VIC     │ 3000     │ 1\\TP841512      │ 20394280000 │ PRINCIPAL       │ NULL           │ NULL              │ NULL           │ FRONTAGE CENTRE SETBACK │ 144.96528473 │ -37.81606903 │\n",
      "│ GAVIC424764646     │ 2011-04-27   │ UNIT 12S 610 ST KILDA RD, MELBOURNE VIC 3004                  │ NULL              │ NULL          │ UNIT      │ 12S         │ NULL       │ NULL         │ 610          │ NULL        │ NULL       │ ST KILDA    │ ROAD        │ NULL          │ MELBOURNE     │ VIC     │ 3004     │ 12S\\PS421846    │ 20521410000 │ PRINCIPAL       │ NULL           │ SECONDARY         │ GAVIC412726027 │ FRONTAGE CENTRE SETBACK │ 144.98082049 │ -37.85192438 │\n",
      "│ GAVIC719530834     │ 2017-10-17   │ UNIT 1504 LEVEL 15 81 ABECKETT ST, MELBOURNE VIC 3000         │ NULL              │ NULL          │ UNIT      │ 1504        │ LEVEL      │ 15           │ 81           │ NULL        │ NULL       │ ABECKETT    │ STREET      │ NULL          │ MELBOURNE     │ VIC     │ 3000     │ 1504\\PS726465   │ 21328320000 │ PRINCIPAL       │ NULL           │ SECONDARY         │ GAVIC719456077 │ FRONTAGE CENTRE SETBACK │ 144.96121215 │ -37.80936093 │\n",
      "│ GAVIC424076106     │ 2017-10-26   │ UNIT 1909 200 SPENCER ST, MELBOURNE VIC 3000                  │ NULL              │ NULL          │ UNIT      │ 1909        │ NULL       │ NULL         │ 200          │ NULL        │ NULL       │ SPENCER     │ STREET      │ NULL          │ MELBOURNE     │ VIC     │ 3000     │ 1909\\PS532365   │ 21326050000 │ ALIAS           │ GAVIC424088612 │ SECONDARY         │ GAVIC419722686 │ FRONTAGE CENTRE SETBACK │ 144.95317395 │ -37.81628712 │\n",
      "│ GAVIC720442876     │ 2021-01-15   │ UNIT 2104 560 LONSDALE ST, MELBOURNE VIC 3000                 │ NULL              │ NULL          │ UNIT      │ 2104        │ NULL       │ NULL         │ 560          │ NULL        │ NULL       │ LONSDALE    │ STREET      │ NULL          │ MELBOURNE     │ VIC     │ 3000     │ 2104\\PS809941   │ 20631898610 │ ALIAS           │ GAVIC720527414 │ SECONDARY         │ GAVIC421065795 │ FRONTAGE CENTRE SETBACK │ 144.95565883 │ -37.81395595 │\n",
      "│ GAVIC423662243     │ 2013-04-19   │ QV VILLAGE UNIT 2802 22-24 JANE BELL LANE, MELBOURNE VIC 3000 │ NULL              │ QV VILLAGE    │ UNIT      │ 2802        │ NULL       │ NULL         │ 22           │ 24          │ NULL       │ JANE BELL   │ LANE        │ NULL          │ MELBOURNE     │ VIC     │ 3000     │ NULL            │ 20393862000 │ PRINCIPAL       │ NULL           │ SECONDARY         │ GAVIC423463890 │ FRONTAGE CENTRE SETBACK │  144.9662673 │  -37.8102041 │\n",
      "│ GAVIC719768419     │ 2018-05-08   │ SUITE 2 LEVEL 8 360 COLLINS ST, MELBOURNE VIC 3000            │ NULL              │ NULL          │ SUITE     │ 2           │ LEVEL      │ 8            │ 360          │ NULL        │ NULL       │ COLLINS     │ STREET      │ NULL          │ MELBOURNE     │ VIC     │ 3000     │ 1\\PS738912      │ 20664310000 │ PRINCIPAL       │ NULL           │ SECONDARY         │ GAVIC420877251 │ FRONTAGE CENTRE SETBACK │ 144.96209548 │ -37.81578284 │\n",
      "│ GAVIC423622747     │ 2009-07-22   │ LEVEL 2 380 BOURKE ST, MELBOURNE VIC 3000                     │ NULL              │ NULL          │ NULL      │ NULL        │ LEVEL      │ 2            │ 380          │ NULL        │ NULL       │ BOURKE      │ STREET      │ NULL          │ MELBOURNE     │ VIC     │ 3000     │ 3\\PS815485      │ 20393420000 │ PRINCIPAL       │ NULL           │ SECONDARY         │ GAVIC419671684 │ FRONTAGE CENTRE SETBACK │ 144.96233065 │ -37.81427149 │\n",
      "│ GAVIC425741725     │ 2015-10-26   │ UNIT 3005 LEVEL 30 11 ROSE LANE, MELBOURNE VIC 3000           │ NULL              │ NULL          │ UNIT      │ 3005        │ LEVEL      │ 30           │ 11           │ NULL        │ NULL       │ ROSE        │ LANE        │ NULL          │ MELBOURNE     │ VIC     │ 3000     │ 3005B\\PS633275  │ 20664901000 │ PRINCIPAL       │ NULL           │ SECONDARY         │ GAVIC425706582 │ FRONTAGE CENTRE SETBACK │ 144.95408699 │ -37.81543898 │\n",
      "│       ·            │     ·        │                          ·                                    │  ·                │  ·            │  ·        │  ·          │   ·        │ ·            │ ·            │  ·          │  ·         │  ·          │  ·          │  ·            │     ·         │  ·      │  ·       │       ·         │      ·      │     ·           │  ·             │     ·             │       ·        │            ·            │       ·      │       ·      │\n",
      "│       ·            │     ·        │                          ·                                    │  ·                │  ·            │  ·        │  ·          │   ·        │ ·            │ ·            │  ·          │  ·         │  ·          │  ·          │  ·            │     ·         │  ·      │  ·       │       ·         │      ·      │     ·           │  ·             │     ·             │       ·        │            ·            │       ·      │       ·      │\n",
      "│       ·            │     ·        │                          ·                                    │  ·                │  ·            │  ·        │  ·          │   ·        │ ·            │ ·            │  ·          │  ·         │  ·          │  ·          │  ·            │     ·         │  ·      │  ·       │       ·         │      ·      │     ·           │  ·             │     ·             │       ·        │            ·            │       ·      │       ·      │\n",
      "│ GAVIC423626215     │ 2006-01-14   │ SUITE 1110 LEVEL 11 227 COLLINS ST, MELBOURNE VIC 3000        │ NULL              │ NULL          │ SUITE     │ 1110        │ LEVEL      │ 11           │ 227          │ NULL        │ NULL       │ COLLINS     │ STREET      │ NULL          │ MELBOURNE     │ VIC     │ 3000     │ 1110\\PS425082   │ 20664350000 │ PRINCIPAL       │ NULL           │ SECONDARY         │ GAVIC412703993 │ FRONTAGE CENTRE SETBACK │ 144.96632037 │ -37.81579195 │\n",
      "│ GAVIC423915426     │ 2007-03-27   │ UNIT 1501 68-86 LA TROBE ST, MELBOURNE VIC 3000               │ NULL              │ NULL          │ UNIT      │ 1501        │ NULL       │ NULL         │ 68           │ 86          │ NULL       │ LA TROBE    │ STREET      │ NULL          │ MELBOURNE     │ VIC     │ 3000     │ 1501\\PS501388   │ 20399010000 │ ALIAS           │ GAVIC423914104 │ SECONDARY         │ GAVIC424755065 │ FRONTAGE CENTRE SETBACK │ 144.96674626 │ -37.80850653 │\n",
      "│ GAVIC424770882     │ 2011-04-28   │ SUITE 4 1 COLLINS ST, MELBOURNE VIC 3000                      │ NULL              │ NULL          │ SUITE     │ 4           │ NULL       │ NULL         │ 1            │ NULL        │ NULL       │ COLLINS     │ STREET      │ NULL          │ MELBOURNE     │ VIC     │ 3000     │ CP153244        │ 21334920000 │ PRINCIPAL       │ NULL           │ SECONDARY         │ GAVIC420774466 │ FRONTAGE CENTRE SETBACK │ 144.97361666 │ -37.81363721 │\n",
      "│ GAVIC721256825     │ 2023-10-23   │ UNIT 1703 648 LONSDALE ST, MELBOURNE VIC 3000                 │ NULL              │ NULL          │ UNIT      │ 1703        │ NULL       │ NULL         │ 648          │ NULL        │ NULL       │ LONSDALE    │ STREET      │ NULL          │ MELBOURNE     │ VIC     │ 3000     │ S33\\PS746092    │ 20664921000 │ ALIAS           │ GAVIC721297093 │ SECONDARY         │ GAVIC721256070 │ FRONTAGE CENTRE SETBACK │ 144.95342148 │ -37.81448127 │\n",
      "│ GAVIC425573006     │ 2015-01-19   │ UNIT 2307 LEVEL 23 199 WILLIAM ST, MELBOURNE VIC 3000         │ NULL              │ NULL          │ UNIT      │ 2307        │ LEVEL      │ 23           │ 199          │ NULL        │ NULL       │ WILLIAM     │ STREET      │ NULL          │ MELBOURNE     │ VIC     │ 3000     │ 2307\\PS648185   │ 20664780000 │ PRINCIPAL       │ NULL           │ SECONDARY         │ GAVIC421055474 │ FRONTAGE CENTRE SETBACK │ 144.95742502 │ -37.81454362 │\n",
      "│ GAVIC424373728     │ 2010-10-21   │ UNIT 1316 555 FLINDERS ST, MELBOURNE VIC 3000                 │ NULL              │ NULL          │ UNIT      │ 1316        │ NULL       │ NULL         │ 555          │ NULL        │ NULL       │ FLINDERS    │ STREET      │ NULL          │ MELBOURNE     │ VIC     │ 3000     │ 1316\\PS549363   │ 20393726000 │ ALIAS           │ GAVIC424446133 │ SECONDARY         │ GAVIC423937632 │ FRONTAGE CENTRE SETBACK │ 144.95660101 │  -37.8208405 │\n",
      "│ GAVIC423650556     │ 2011-08-06   │ UNIT 4 FLOOR 14 201 SPRING ST, MELBOURNE VIC 3000             │ NULL              │ NULL          │ UNIT      │ 4           │ FLOOR      │ 14           │ 201          │ NULL        │ NULL       │ SPRING      │ STREET      │ NULL          │ MELBOURNE     │ VIC     │ 3000     │ 144\\RP1578      │ 20394040000 │ PRINCIPAL       │ NULL           │ SECONDARY         │ GAVIC423758822 │ FRONTAGE CENTRE SETBACK │ 144.97218536 │ -37.81007987 │\n",
      "│ GAVIC719323941     │ 2017-04-21   │ UNIT 3302 LEVEL 33 327 LA TROBE ST, MELBOURNE VIC 3000        │ NULL              │ NULL          │ UNIT      │ 3302        │ LEVEL      │ 33           │ 327          │ NULL        │ NULL       │ LA TROBE    │ STREET      │ NULL          │ MELBOURNE     │ VIC     │ 3000     │ 3302\\PS721509   │ 21315220000 │ PRINCIPAL       │ NULL           │ SECONDARY         │ GAVIC719243610 │ FRONTAGE CENTRE SETBACK │ 144.95978981 │  -37.8109888 │\n",
      "│ GAVIC424688517     │ 2010-10-22   │ UNIT 413 LEVEL 4 339 SWANSTON ST, MELBOURNE VIC 3000          │ NULL              │ NULL          │ UNIT      │ 413         │ LEVEL      │ 4            │ 339          │ NULL        │ NULL       │ SWANSTON    │ STREET      │ NULL          │ MELBOURNE     │ VIC     │ 3000     │ 413\\PS401839    │ 20631901200 │ ALIAS           │ GAVIC411808742 │ SECONDARY         │ GAVIC419988543 │ FRONTAGE CENTRE SETBACK │ 144.96389721 │ -37.81033441 │\n",
      "│ GAVIC423447548     │ 2005-10-12   │ CARSPACE 2007 422 COLLINS ST, MELBOURNE VIC 3000              │ NULL              │ NULL          │ CARSPACE  │ 2007        │ NULL       │ NULL         │ 422          │ NULL        │ NULL       │ COLLINS     │ STREET      │ NULL          │ MELBOURNE     │ VIC     │ 3000     │ 2007\\PS430247   │ 20392940000 │ PRINCIPAL       │ NULL           │ SECONDARY         │ GAVIC422085250 │ FRONTAGE CENTRE SETBACK │ 144.96012693 │  -37.8171242 │\n",
      "├────────────────────┴──────────────┴───────────────────────────────────────────────────────────────┴───────────────────┴───────────────┴───────────┴─────────────┴────────────┴──────────────┴──────────────┴─────────────┴────────────┴─────────────┴─────────────┴───────────────┴───────────────┴─────────┴──────────┴─────────────────┴─────────────┴─────────────────┴────────────────┴───────────────────┴────────────────┴─────────────────────────┴──────────────┴──────────────┤\n",
      "│ ? rows (>9999 rows, 20 shown)                                                                                                                                                                                                                                                                                                                                                                                                                                               27 columns │\n",
      "└────────────────────────────────────────────────────────────────────────────────────────────────────────────────────────────────────────────────────────────────────────────────────────────────────────────────────────────────────────────────────────────────────────────────────────────────────────────────────────────────────────────────────────────────────────────────────────────────────────────────────────────────────────────────────────────────────────────────────────┘\n",
      "\n"
     ]
    }
   ],
   "source": [
    "duckdb.sql(\"\"\"\n",
    "            SELECT\n",
    "                *\n",
    "            FROM\n",
    "              './data/gnaf.parquet'\n",
    "            WHERE\n",
    "              LOCALITY_NAME = 'MELBOURNE'\n",
    "           \"\"\").show(max_width=1000)"
   ]
  },
  {
   "cell_type": "code",
   "execution_count": 27,
   "metadata": {},
   "outputs": [
    {
     "name": "stdout",
     "output_type": "stream",
     "text": [
      "┌────────────────────┬──────────────┬───────────────────────────────────────────────────────────────┬───────────────────┬───────────────┬───────────┬─────────────┬────────────┬──────────────┬──────────────┬─────────────┬────────────┬─────────────┬─────────────┬───────────────┬───────────────┬─────────┬──────────┬─────────────────┬─────────────┬─────────────────┬───────────────┬───────────────────┬────────────────┬─────────────────────────┬─────────────┬─────────────┐\n",
      "│ ADDRESS_DETAIL_PID │ DATE_CREATED │                         ADDRESS_LABEL                         │ ADDRESS_SITE_NAME │ BUILDING_NAME │ FLAT_TYPE │ FLAT_NUMBER │ LEVEL_TYPE │ LEVEL_NUMBER │ NUMBER_FIRST │ NUMBER_LAST │ LOT_NUMBER │ STREET_NAME │ STREET_TYPE │ STREET_SUFFIX │ LOCALITY_NAME │  STATE  │ POSTCODE │ LEGAL_PARCEL_ID │   MB_CODE   │ ALIAS_PRINCIPAL │ PRINCIPAL_PID │ PRIMARY_SECONDARY │  PRIMARY_PID   │      GEOCODE_TYPE       │  LONGITUDE  │  LATITUDE   │\n",
      "│      varchar       │     date     │                            varchar                            │      varchar      │    varchar    │  varchar  │   varchar   │  varchar   │   varchar    │   varchar    │   varchar   │  varchar   │   varchar   │   varchar   │    varchar    │    varchar    │ varchar │ varchar  │     varchar     │    int64    │     varchar     │    varchar    │      varchar      │    varchar     │         varchar         │   double    │   double    │\n",
      "├────────────────────┼──────────────┼───────────────────────────────────────────────────────────────┼───────────────────┼───────────────┼───────────┼─────────────┼────────────┼──────────────┼──────────────┼─────────────┼────────────┼─────────────┼─────────────┼───────────────┼───────────────┼─────────┼──────────┼─────────────────┼─────────────┼─────────────────┼───────────────┼───────────────────┼────────────────┼─────────────────────────┼─────────────┼─────────────┤\n",
      "│ GAVIC423662243     │ 2013-04-19   │ QV VILLAGE UNIT 2802 22-24 JANE BELL LANE, MELBOURNE VIC 3000 │ NULL              │ QV VILLAGE    │ UNIT      │ 2802        │ NULL       │ NULL         │ 22           │ 24          │ NULL       │ JANE BELL   │ LANE        │ NULL          │ MELBOURNE     │ VIC     │ 3000     │ NULL            │ 20393862000 │ PRINCIPAL       │ NULL          │ SECONDARY         │ GAVIC423463890 │ FRONTAGE CENTRE SETBACK │ 144.9662673 │ -37.8102041 │\n",
      "└────────────────────┴──────────────┴───────────────────────────────────────────────────────────────┴───────────────────┴───────────────┴───────────┴─────────────┴────────────┴──────────────┴──────────────┴─────────────┴────────────┴─────────────┴─────────────┴───────────────┴───────────────┴─────────┴──────────┴─────────────────┴─────────────┴─────────────────┴───────────────┴───────────────────┴────────────────┴─────────────────────────┴─────────────┴─────────────┘\n",
      "\n"
     ]
    }
   ],
   "source": [
    "duckdb.sql(\"\"\"\n",
    "            SELECT\n",
    "                *\n",
    "            FROM\n",
    "              './data/gnaf.parquet'\n",
    "            WHERE\n",
    "              ADDRESS_LABEL = 'QV VILLAGE UNIT 2802 22-24 JANE BELL LANE, MELBOURNE VIC 3000'\n",
    "           \"\"\").show(max_width=1000)"
   ]
  }
 ],
 "metadata": {
  "kernelspec": {
   "display_name": ".venv",
   "language": "python",
   "name": "python3"
  },
  "language_info": {
   "codemirror_mode": {
    "name": "ipython",
    "version": 3
   },
   "file_extension": ".py",
   "mimetype": "text/x-python",
   "name": "python",
   "nbconvert_exporter": "python",
   "pygments_lexer": "ipython3",
   "version": "3.11.6"
  }
 },
 "nbformat": 4,
 "nbformat_minor": 2
}
