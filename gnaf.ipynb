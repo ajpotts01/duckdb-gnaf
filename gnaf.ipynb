{
 "cells": [
  {
   "cell_type": "code",
   "execution_count": 1,
   "metadata": {},
   "outputs": [],
   "source": [
    "import duckdb"
   ]
  },
  {
   "cell_type": "code",
   "execution_count": 3,
   "metadata": {},
   "outputs": [
    {
     "data": {
      "text/plain": [
       "┌────────────────────┬──────────────┬──────────────────────┬───┬──────────────────────┬──────────────┬──────────────┐\n",
       "│ ADDRESS_DETAIL_PID │ DATE_CREATED │    ADDRESS_LABEL     │ … │     GEOCODE_TYPE     │  LONGITUDE   │   LATITUDE   │\n",
       "│      varchar       │     date     │       varchar        │   │       varchar        │    double    │    double    │\n",
       "├────────────────────┼──────────────┼──────────────────────┼───┼──────────────────────┼──────────────┼──────────────┤\n",
       "│ GASA_422066533     │ 2016-07-26   │ 28 MCKENZIE ST, CO…  │ … │ PROPERTY CENTROID    │ 136.91567146 │ -33.67706607 │\n",
       "│ GAVIC720775733     │ 2021-10-27   │ UNIT 2005 245 CITY…  │ … │ FRONTAGE CENTRE SE…  │ 144.95971219 │ -37.82657039 │\n",
       "│ GAVIC423132224     │ 2005-02-15   │ UNIT 226 181-189 B…  │ … │ FRONTAGE CENTRE SE…  │ 144.98071973 │ -37.86867524 │\n",
       "│ GANSW705319644     │ 2008-04-19   │ 224 FRANKLIN ST, M…  │ … │ PROPERTY CENTROID    │ 151.24453513 │ -33.96342903 │\n",
       "│ GANSW703996938     │ 2008-04-17   │ 53 BODALLA CR, BAN…  │ … │ PROPERTY CENTROID    │ 151.02561762 │ -34.01737624 │\n",
       "│ GASA_416032331     │ 2009-10-15   │ 17 CORFU CT, HACKH…  │ … │ PROPERTY CENTROID    │ 138.51240268 │ -35.14496524 │\n",
       "│ GAQLD425052304     │ 2012-07-17   │ AVEO CLEVELAND UNI…  │ … │ BUILDING CENTROID    │    153.25971 │ -27.54321847 │\n",
       "│ GAQLD161427116     │ 2010-01-26   │ 12 BLAIN DR, CALLE…  │ … │ PROPERTY CENTROID    │ 151.23122353 │ -23.85289357 │\n",
       "│ GAVIC421289936     │ 2004-11-02   │ 12 MAHON AV, KENNI…  │ … │ FRONTAGE CENTRE SE…  │ 144.30077762 │ -36.76979917 │\n",
       "│ GAWA_147895615     │ 2006-04-20   │ UNIT 3 34 KENNEDY …  │ … │ PROPERTY CENTROID    │ 115.89266034 │ -31.92369948 │\n",
       "│       ·            │     ·        │          ·           │ · │         ·            │       ·      │       ·      │\n",
       "│       ·            │     ·        │          ·           │ · │         ·            │       ·      │       ·      │\n",
       "│       ·            │     ·        │          ·           │ · │         ·            │       ·      │       ·      │\n",
       "│ GAVIC421400432     │ 2004-04-29   │ 15 VALLEY RD, SEVI…  │ … │ FRONTAGE CENTRE SE…  │ 145.46132385 │ -37.77166787 │\n",
       "│ GAVIC420171510     │ 2004-04-29   │ 52 COROMANDEL CR, …  │ … │ FRONTAGE CENTRE SE…  │ 145.25281188 │ -37.88689986 │\n",
       "│ GANT_703855672     │ 2004-04-29   │ 140 MACLEOD RD, HO…  │ … │ PROPERTY CENTROID    │ 131.05668212 │ -12.50110043 │\n",
       "│ GATAS702238297     │ 2005-02-15   │ UNIT 2 8 GEORGE ST…  │ … │ PROPERTY CENTROID    │ 146.36288461 │ -41.16986969 │\n",
       "│ GAVIC411564624     │ 2009-04-03   │ UNIT 1 24 KONRADS …  │ … │ FRONTAGE CENTRE SE…  │ 144.32002851 │  -38.1839734 │\n",
       "│ GAQLD160997592     │ 2010-01-27   │ 3 HASP ST, SEVENTE…  │ … │ PROPERTY CENTROID    │ 152.95581912 │ -27.54534266 │\n",
       "│ GAVIC425485437     │ 2020-10-17   │ THE LINKS AT WATER…  │ … │ PROPERTY ACCESS PO…  │ 145.25459999 │ -37.90659058 │\n",
       "│ GAVIC414507793     │ 2004-04-29   │ 57 BRIDGE ST WEST,…  │ … │ FRONTAGE CENTRE SE…  │ 145.96944438 │ -36.55612829 │\n",
       "│ GANSW718700198     │ 2017-07-30   │ ST BRIGID'S GREEN …  │ … │ BUILDING CENTROID    │ 151.24422165 │ -33.94166279 │\n",
       "│ GANSW717119133     │ 2016-04-25   │ 196 RAILWAY TCE, M…  │ … │ PROPERTY CENTROID    │ 150.99096803 │ -33.84595168 │\n",
       "├────────────────────┴──────────────┴──────────────────────┴───┴──────────────────────┴──────────────┴──────────────┤\n",
       "│ ? rows (>9999 rows, 20 shown)                                                                27 columns (6 shown) │\n",
       "└───────────────────────────────────────────────────────────────────────────────────────────────────────────────────┘"
      ]
     },
     "execution_count": 3,
     "metadata": {},
     "output_type": "execute_result"
    }
   ],
   "source": [
    "duckdb.read_csv(\"./data/GNAF_CORE.psv\", delimiter=\"|\").write_parquet(\"./data/gnaf.parquet\")"
   ]
  },
  {
   "cell_type": "code",
   "execution_count": 11,
   "metadata": {},
   "outputs": [
    {
     "ename": "CatalogException",
     "evalue": "Catalog Error: Table with name gnaf.psv does not exist!\nDid you mean \"pg_am\"?",
     "output_type": "error",
     "traceback": [
      "\u001b[1;31m---------------------------------------------------------------------------\u001b[0m",
      "\u001b[1;31mCatalogException\u001b[0m                          Traceback (most recent call last)",
      "Cell \u001b[1;32mIn[11], line 1\u001b[0m\n\u001b[1;32m----> 1\u001b[0m \u001b[43mduckdb\u001b[49m\u001b[38;5;241;43m.\u001b[39;49m\u001b[43msql\u001b[49m\u001b[43m(\u001b[49m\u001b[38;5;124;43m\"\u001b[39;49m\u001b[38;5;124;43mSELECT * FROM \u001b[39;49m\u001b[38;5;124;43m'\u001b[39;49m\u001b[38;5;124;43mgnaf.psv\u001b[39;49m\u001b[38;5;124;43m'\u001b[39;49m\u001b[38;5;124;43m\"\u001b[39;49m\u001b[43m)\u001b[49m\n",
      "\u001b[1;31mCatalogException\u001b[0m: Catalog Error: Table with name gnaf.psv does not exist!\nDid you mean \"pg_am\"?"
     ]
    }
   ],
   "source": [
    "duckdb.sql(\"SELECT * FROM 'gnaf.psv'\")"
   ]
  }
 ],
 "metadata": {
  "kernelspec": {
   "display_name": ".venv",
   "language": "python",
   "name": "python3"
  },
  "language_info": {
   "codemirror_mode": {
    "name": "ipython",
    "version": 3
   },
   "file_extension": ".py",
   "mimetype": "text/x-python",
   "name": "python",
   "nbconvert_exporter": "python",
   "pygments_lexer": "ipython3",
   "version": "3.12.1"
  }
 },
 "nbformat": 4,
 "nbformat_minor": 2
}
